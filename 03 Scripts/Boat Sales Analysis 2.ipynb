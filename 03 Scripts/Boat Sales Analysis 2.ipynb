{
 "cells": [
  {
   "cell_type": "markdown",
   "id": "6ccfe7df",
   "metadata": {},
   "source": [
    "# Boat Sales Analysis2"
   ]
  },
  {
   "cell_type": "markdown",
   "id": "2b5a4e25",
   "metadata": {},
   "source": [
    "### This script contains the following:\n",
    "\n",
    "#### 1. Importing Visualization Libraries and Data\n",
    "#### 2. Data Manipulating and  Creating new columns for analysis"
   ]
  },
  {
   "cell_type": "markdown",
   "id": "9e2f8184",
   "metadata": {},
   "source": [
    "## 1. Importing Libraries and Data"
   ]
  },
  {
   "cell_type": "code",
   "execution_count": 1,
   "id": "65360cf6",
   "metadata": {},
   "outputs": [],
   "source": [
    "import quandl\n",
    "import pandas as pd\n",
    "import numpy as np\n",
    "import seaborn as sns\n",
    "import matplotlib\n",
    "import matplotlib.pyplot as plt\n",
    "import statsmodels.api as sm \n",
    "import os\n",
    "import warnings \n",
    "\n",
    "warnings.filterwarnings(\"ignore\")\n",
    "plt.style.use('fivethirtyeight') "
   ]
  },
  {
   "cell_type": "code",
   "execution_count": 2,
   "id": "0ad1c8fe",
   "metadata": {},
   "outputs": [],
   "source": [
    "# Path to the original data\n",
    "path= r'/Users/mentaykoshzhanova/Desktop/boat project'"
   ]
  },
  {
   "cell_type": "code",
   "execution_count": 3,
   "id": "86a5f00e",
   "metadata": {},
   "outputs": [],
   "source": [
    "# Using path to create df \n",
    "df = pd.read_csv(os.path.join(path, '02 Data', 'Prepared Data', 'clean_boat.csv'), index_col = False)"
   ]
  },
  {
   "cell_type": "code",
   "execution_count": 4,
   "id": "22711cc5",
   "metadata": {},
   "outputs": [
    {
     "data": {
      "text/html": [
       "<div>\n",
       "<style scoped>\n",
       "    .dataframe tbody tr th:only-of-type {\n",
       "        vertical-align: middle;\n",
       "    }\n",
       "\n",
       "    .dataframe tbody tr th {\n",
       "        vertical-align: top;\n",
       "    }\n",
       "\n",
       "    .dataframe thead th {\n",
       "        text-align: right;\n",
       "    }\n",
       "</style>\n",
       "<table border=\"1\" class=\"dataframe\">\n",
       "  <thead>\n",
       "    <tr style=\"text-align: right;\">\n",
       "      <th></th>\n",
       "      <th>Unnamed: 0</th>\n",
       "      <th>Boat Type</th>\n",
       "      <th>Manufacturer</th>\n",
       "      <th>Condition</th>\n",
       "      <th>Year Built</th>\n",
       "      <th>Length</th>\n",
       "      <th>Width</th>\n",
       "      <th>Material</th>\n",
       "      <th>Number of views last 7 days</th>\n",
       "      <th>Price in usd</th>\n",
       "      <th>Country</th>\n",
       "    </tr>\n",
       "  </thead>\n",
       "  <tbody>\n",
       "    <tr>\n",
       "      <th>0</th>\n",
       "      <td>0</td>\n",
       "      <td>Motor Yacht</td>\n",
       "      <td>Rigiflex power boats</td>\n",
       "      <td>new boat from stock</td>\n",
       "      <td>2017</td>\n",
       "      <td>4.00</td>\n",
       "      <td>1.90</td>\n",
       "      <td>GRP</td>\n",
       "      <td>226</td>\n",
       "      <td>3704.07</td>\n",
       "      <td>Switzerland</td>\n",
       "    </tr>\n",
       "    <tr>\n",
       "      <th>1</th>\n",
       "      <td>1</td>\n",
       "      <td>Center console boat</td>\n",
       "      <td>Terhi power boats</td>\n",
       "      <td>new boat from stock</td>\n",
       "      <td>2020</td>\n",
       "      <td>4.00</td>\n",
       "      <td>1.50</td>\n",
       "      <td>Thermoplastic</td>\n",
       "      <td>75</td>\n",
       "      <td>3734.30</td>\n",
       "      <td>Germany</td>\n",
       "    </tr>\n",
       "    <tr>\n",
       "      <th>2</th>\n",
       "      <td>2</td>\n",
       "      <td>Sport Boat</td>\n",
       "      <td>Marine power boats</td>\n",
       "      <td>new boat from stock</td>\n",
       "      <td>0</td>\n",
       "      <td>3.69</td>\n",
       "      <td>1.42</td>\n",
       "      <td>Aluminium</td>\n",
       "      <td>124</td>\n",
       "      <td>4184.70</td>\n",
       "      <td>Switzerland</td>\n",
       "    </tr>\n",
       "    <tr>\n",
       "      <th>3</th>\n",
       "      <td>3</td>\n",
       "      <td>Sport Boat</td>\n",
       "      <td>Pioner power boats</td>\n",
       "      <td>new boat from stock</td>\n",
       "      <td>2020</td>\n",
       "      <td>3.00</td>\n",
       "      <td>1.00</td>\n",
       "      <td>GRP</td>\n",
       "      <td>64</td>\n",
       "      <td>3626.00</td>\n",
       "      <td>Denmark</td>\n",
       "    </tr>\n",
       "    <tr>\n",
       "      <th>4</th>\n",
       "      <td>4</td>\n",
       "      <td>Fishing Boat</td>\n",
       "      <td>Linder power boats</td>\n",
       "      <td>new boat from stock</td>\n",
       "      <td>2019</td>\n",
       "      <td>3.55</td>\n",
       "      <td>1.46</td>\n",
       "      <td>Aluminium</td>\n",
       "      <td>58</td>\n",
       "      <td>3636.93</td>\n",
       "      <td>Germany</td>\n",
       "    </tr>\n",
       "  </tbody>\n",
       "</table>\n",
       "</div>"
      ],
      "text/plain": [
       "   Unnamed: 0            Boat Type          Manufacturer            Condition  \\\n",
       "0           0          Motor Yacht  Rigiflex power boats  new boat from stock   \n",
       "1           1  Center console boat     Terhi power boats  new boat from stock   \n",
       "2           2           Sport Boat    Marine power boats  new boat from stock   \n",
       "3           3           Sport Boat    Pioner power boats  new boat from stock   \n",
       "4           4         Fishing Boat    Linder power boats  new boat from stock   \n",
       "\n",
       "   Year Built  Length  Width       Material  Number of views last 7 days  \\\n",
       "0        2017    4.00   1.90            GRP                          226   \n",
       "1        2020    4.00   1.50  Thermoplastic                           75   \n",
       "2           0    3.69   1.42      Aluminium                          124   \n",
       "3        2020    3.00   1.00            GRP                           64   \n",
       "4        2019    3.55   1.46      Aluminium                           58   \n",
       "\n",
       "   Price in usd      Country  \n",
       "0       3704.07  Switzerland  \n",
       "1       3734.30      Germany  \n",
       "2       4184.70  Switzerland  \n",
       "3       3626.00      Denmark  \n",
       "4       3636.93      Germany  "
      ]
     },
     "execution_count": 4,
     "metadata": {},
     "output_type": "execute_result"
    }
   ],
   "source": [
    "df.head()"
   ]
  },
  {
   "cell_type": "code",
   "execution_count": 5,
   "id": "678c556f",
   "metadata": {},
   "outputs": [
    {
     "data": {
      "text/plain": [
       "(7420, 11)"
      ]
     },
     "execution_count": 5,
     "metadata": {},
     "output_type": "execute_result"
    }
   ],
   "source": [
    "df.shape"
   ]
  },
  {
   "cell_type": "code",
   "execution_count": 6,
   "id": "74d5a6f5",
   "metadata": {},
   "outputs": [
    {
     "data": {
      "text/html": [
       "<div>\n",
       "<style scoped>\n",
       "    .dataframe tbody tr th:only-of-type {\n",
       "        vertical-align: middle;\n",
       "    }\n",
       "\n",
       "    .dataframe tbody tr th {\n",
       "        vertical-align: top;\n",
       "    }\n",
       "\n",
       "    .dataframe thead th {\n",
       "        text-align: right;\n",
       "    }\n",
       "</style>\n",
       "<table border=\"1\" class=\"dataframe\">\n",
       "  <thead>\n",
       "    <tr style=\"text-align: right;\">\n",
       "      <th></th>\n",
       "      <th>Unnamed: 0</th>\n",
       "      <th>Year Built</th>\n",
       "      <th>Length</th>\n",
       "      <th>Width</th>\n",
       "      <th>Number of views last 7 days</th>\n",
       "      <th>Price in usd</th>\n",
       "    </tr>\n",
       "  </thead>\n",
       "  <tbody>\n",
       "    <tr>\n",
       "      <th>count</th>\n",
       "      <td>7420.000000</td>\n",
       "      <td>7420.000000</td>\n",
       "      <td>7420.000000</td>\n",
       "      <td>7420.000000</td>\n",
       "      <td>7420.000000</td>\n",
       "      <td>7.420000e+03</td>\n",
       "    </tr>\n",
       "    <tr>\n",
       "      <th>mean</th>\n",
       "      <td>4966.000809</td>\n",
       "      <td>1884.982884</td>\n",
       "      <td>10.718402</td>\n",
       "      <td>3.367708</td>\n",
       "      <td>158.178302</td>\n",
       "      <td>2.470879e+05</td>\n",
       "    </tr>\n",
       "    <tr>\n",
       "      <th>std</th>\n",
       "      <td>2905.604118</td>\n",
       "      <td>480.278326</td>\n",
       "      <td>5.044519</td>\n",
       "      <td>1.124015</td>\n",
       "      <td>162.198300</td>\n",
       "      <td>8.873849e+05</td>\n",
       "    </tr>\n",
       "    <tr>\n",
       "      <th>min</th>\n",
       "      <td>0.000000</td>\n",
       "      <td>0.000000</td>\n",
       "      <td>1.700000</td>\n",
       "      <td>0.740000</td>\n",
       "      <td>15.000000</td>\n",
       "      <td>3.531000e+03</td>\n",
       "    </tr>\n",
       "    <tr>\n",
       "      <th>25%</th>\n",
       "      <td>2356.750000</td>\n",
       "      <td>1998.000000</td>\n",
       "      <td>7.130000</td>\n",
       "      <td>2.510000</td>\n",
       "      <td>72.000000</td>\n",
       "      <td>4.494000e+04</td>\n",
       "    </tr>\n",
       "    <tr>\n",
       "      <th>50%</th>\n",
       "      <td>5100.000000</td>\n",
       "      <td>2008.000000</td>\n",
       "      <td>9.600000</td>\n",
       "      <td>3.100000</td>\n",
       "      <td>112.000000</td>\n",
       "      <td>9.523000e+04</td>\n",
       "    </tr>\n",
       "    <tr>\n",
       "      <th>75%</th>\n",
       "      <td>7499.250000</td>\n",
       "      <td>2018.000000</td>\n",
       "      <td>13.110000</td>\n",
       "      <td>4.100000</td>\n",
       "      <td>185.000000</td>\n",
       "      <td>2.129300e+05</td>\n",
       "    </tr>\n",
       "    <tr>\n",
       "      <th>max</th>\n",
       "      <td>9887.000000</td>\n",
       "      <td>2021.000000</td>\n",
       "      <td>56.000000</td>\n",
       "      <td>25.160000</td>\n",
       "      <td>3263.000000</td>\n",
       "      <td>3.317000e+07</td>\n",
       "    </tr>\n",
       "  </tbody>\n",
       "</table>\n",
       "</div>"
      ],
      "text/plain": [
       "        Unnamed: 0   Year Built       Length        Width  \\\n",
       "count  7420.000000  7420.000000  7420.000000  7420.000000   \n",
       "mean   4966.000809  1884.982884    10.718402     3.367708   \n",
       "std    2905.604118   480.278326     5.044519     1.124015   \n",
       "min       0.000000     0.000000     1.700000     0.740000   \n",
       "25%    2356.750000  1998.000000     7.130000     2.510000   \n",
       "50%    5100.000000  2008.000000     9.600000     3.100000   \n",
       "75%    7499.250000  2018.000000    13.110000     4.100000   \n",
       "max    9887.000000  2021.000000    56.000000    25.160000   \n",
       "\n",
       "       Number of views last 7 days  Price in usd  \n",
       "count                  7420.000000  7.420000e+03  \n",
       "mean                    158.178302  2.470879e+05  \n",
       "std                     162.198300  8.873849e+05  \n",
       "min                      15.000000  3.531000e+03  \n",
       "25%                      72.000000  4.494000e+04  \n",
       "50%                     112.000000  9.523000e+04  \n",
       "75%                     185.000000  2.129300e+05  \n",
       "max                    3263.000000  3.317000e+07  "
      ]
     },
     "execution_count": 6,
     "metadata": {},
     "output_type": "execute_result"
    }
   ],
   "source": [
    "df.describe()"
   ]
  },
  {
   "cell_type": "code",
   "execution_count": 7,
   "id": "e5a43e23",
   "metadata": {},
   "outputs": [
    {
     "data": {
      "text/plain": [
       "452"
      ]
     },
     "execution_count": 7,
     "metadata": {},
     "output_type": "execute_result"
    }
   ],
   "source": [
    "# check Year Built column with 0 values count\n",
    "df[df['Year Built'] ==0].count()[0]"
   ]
  },
  {
   "cell_type": "markdown",
   "id": "10dfbac6",
   "metadata": {},
   "source": [
    "## 2. Data Manipulation"
   ]
  },
  {
   "cell_type": "code",
   "execution_count": 8,
   "id": "7a9aae08",
   "metadata": {},
   "outputs": [],
   "source": [
    "df_clean = df.copy()"
   ]
  },
  {
   "cell_type": "code",
   "execution_count": 9,
   "id": "cd183886",
   "metadata": {},
   "outputs": [
    {
     "data": {
      "text/plain": [
       "count    7.420000e+03\n",
       "mean     2.470879e+05\n",
       "std      8.873849e+05\n",
       "min      3.531000e+03\n",
       "25%      4.494000e+04\n",
       "50%      9.523000e+04\n",
       "75%      2.129300e+05\n",
       "max      3.317000e+07\n",
       "Name: Price in usd, dtype: float64"
      ]
     },
     "execution_count": 9,
     "metadata": {},
     "output_type": "execute_result"
    }
   ],
   "source": [
    "# Add new column with price levels (low, medium, high and very high):\n",
    "df_clean['Price in usd'].describe()\n"
   ]
  },
  {
   "cell_type": "code",
   "execution_count": 10,
   "id": "83ad7448",
   "metadata": {},
   "outputs": [],
   "source": [
    "# Splitting into columns\n",
    "min = df_clean['Price in usd'].min()\n",
    "first_q = df_clean['Price in usd'].quantile(0.25)\n",
    "third_q = df_clean['Price in usd'].quantile(0.75)\n",
    "median = df_clean['Price in usd'].median()\n",
    "max = df_clean['Price in usd'].max()"
   ]
  },
  {
   "cell_type": "code",
   "execution_count": 11,
   "id": "0c17545b",
   "metadata": {},
   "outputs": [],
   "source": [
    "# Creating flags\n",
    "bins = [min, first_q, median, third_q, max]\n",
    "labels = ['Low', 'Medium', 'High', 'Very High']\n",
    "df_clean['Price Level'] = pd.cut(df_clean['Price in usd'], bins, labels = labels, include_lowest=True, right=True)"
   ]
  },
  {
   "cell_type": "code",
   "execution_count": 12,
   "id": "61727f1a",
   "metadata": {},
   "outputs": [
    {
     "data": {
      "text/plain": [
       "Price Level\n",
       "Medium       1889\n",
       "Low          1860\n",
       "Very High    1853\n",
       "High         1818\n",
       "Name: count, dtype: int64"
      ]
     },
     "execution_count": 12,
     "metadata": {},
     "output_type": "execute_result"
    }
   ],
   "source": [
    "# Checking the changes\n",
    "df_clean['Price Level'].value_counts()"
   ]
  },
  {
   "cell_type": "code",
   "execution_count": 13,
   "id": "301770cc",
   "metadata": {},
   "outputs": [
    {
     "data": {
      "text/plain": [
       "count    7420.000000\n",
       "mean      158.178302\n",
       "std       162.198300\n",
       "min        15.000000\n",
       "25%        72.000000\n",
       "50%       112.000000\n",
       "75%       185.000000\n",
       "max      3263.000000\n",
       "Name: Number of views last 7 days, dtype: float64"
      ]
     },
     "execution_count": 13,
     "metadata": {},
     "output_type": "execute_result"
    }
   ],
   "source": [
    "# Adding new column with view levels (low, medium, high and very high):\n",
    "df_clean['Number of views last 7 days'].describe()"
   ]
  },
  {
   "cell_type": "code",
   "execution_count": 14,
   "id": "3e7ef5fe",
   "metadata": {},
   "outputs": [],
   "source": [
    "# Splitting into columns\n",
    "min = df_clean['Number of views last 7 days'].min()\n",
    "first_q = df_clean['Number of views last 7 days'].quantile(0.25)\n",
    "third_q = df_clean['Number of views last 7 days'].quantile(0.75)\n",
    "median = df_clean['Number of views last 7 days'].median()\n",
    "max = df_clean['Number of views last 7 days'].max()"
   ]
  },
  {
   "cell_type": "code",
   "execution_count": 15,
   "id": "2937d47a",
   "metadata": {},
   "outputs": [],
   "source": [
    "# Creating flags\n",
    "bins2 = [min, first_q, median, third_q, max]\n",
    "labels2 = ['Low', 'Medium', 'High', 'Very High']\n",
    "df_clean['Views Level'] = pd.cut(df_clean['Number of views last 7 days'], bins2, labels = labels2, include_lowest=True, right=True)"
   ]
  },
  {
   "cell_type": "code",
   "execution_count": 16,
   "id": "0e3dc0f2",
   "metadata": {},
   "outputs": [
    {
     "data": {
      "text/plain": [
       "Views Level\n",
       "Low          1883\n",
       "High         1853\n",
       "Very High    1850\n",
       "Medium       1834\n",
       "Name: count, dtype: int64"
      ]
     },
     "execution_count": 16,
     "metadata": {},
     "output_type": "execute_result"
    }
   ],
   "source": [
    "# Checking the changes\n",
    "df_clean['Views Level'].value_counts()"
   ]
  },
  {
   "cell_type": "code",
   "execution_count": 17,
   "id": "aa83c51d",
   "metadata": {},
   "outputs": [
    {
     "data": {
      "text/plain": [
       "Condition\n",
       "new boat from stock,Hybrid      384.000000\n",
       "Used boat,Unleaded              247.985477\n",
       "Display Model,Diesel            234.263158\n",
       "Used boat,Propane               224.000000\n",
       "Display Model                   223.666667\n",
       "new boat on order,Diesel        218.230769\n",
       "Used boat,Gas                   202.222222\n",
       "Used boat,Electric              196.375000\n",
       "new boat on order               190.295455\n",
       "Display Model,Unleaded          188.459459\n",
       "Display Model,Electric          185.000000\n",
       "Unleaded                        179.266667\n",
       "Electric                        167.000000\n",
       "new boat from stock,Electric    160.941176\n",
       "new boat from stock             141.628676\n",
       "Used boat,Diesel                137.286252\n",
       "Used boat                       130.708437\n",
       "new boat on order,Unleaded      130.195804\n",
       "Diesel                          128.560000\n",
       "new boat from stock,Gas         126.000000\n",
       "new boat from stock,Unleaded    124.588639\n",
       "new boat from stock,Diesel      122.613546\n",
       "Name: Number of views last 7 days, dtype: float64"
      ]
     },
     "execution_count": 17,
     "metadata": {},
     "output_type": "execute_result"
    }
   ],
   "source": [
    "# check top 10 boat types which has most views\n",
    "\n",
    "views = df.groupby('Condition')['Number of views last 7 days'].mean().sort_values(ascending=False)\n",
    "views"
   ]
  },
  {
   "cell_type": "code",
   "execution_count": 18,
   "id": "ba1a9910",
   "metadata": {},
   "outputs": [
    {
     "data": {
      "text/html": [
       "<div>\n",
       "<style scoped>\n",
       "    .dataframe tbody tr th:only-of-type {\n",
       "        vertical-align: middle;\n",
       "    }\n",
       "\n",
       "    .dataframe tbody tr th {\n",
       "        vertical-align: top;\n",
       "    }\n",
       "\n",
       "    .dataframe thead th {\n",
       "        text-align: right;\n",
       "    }\n",
       "</style>\n",
       "<table border=\"1\" class=\"dataframe\">\n",
       "  <thead>\n",
       "    <tr style=\"text-align: right;\">\n",
       "      <th></th>\n",
       "      <th>Unnamed: 0</th>\n",
       "      <th>Boat Type</th>\n",
       "      <th>Manufacturer</th>\n",
       "      <th>Condition</th>\n",
       "      <th>Year Built</th>\n",
       "      <th>Length</th>\n",
       "      <th>Width</th>\n",
       "      <th>Material</th>\n",
       "      <th>Number of views last 7 days</th>\n",
       "      <th>Price in usd</th>\n",
       "      <th>Country</th>\n",
       "      <th>Price Level</th>\n",
       "      <th>Views Level</th>\n",
       "    </tr>\n",
       "  </thead>\n",
       "  <tbody>\n",
       "    <tr>\n",
       "      <th>0</th>\n",
       "      <td>0</td>\n",
       "      <td>Motor Yacht</td>\n",
       "      <td>Rigiflex power boats</td>\n",
       "      <td>new boat from stock</td>\n",
       "      <td>2017</td>\n",
       "      <td>4.00</td>\n",
       "      <td>1.90</td>\n",
       "      <td>GRP</td>\n",
       "      <td>226</td>\n",
       "      <td>3704.07</td>\n",
       "      <td>Switzerland</td>\n",
       "      <td>Low</td>\n",
       "      <td>Very High</td>\n",
       "    </tr>\n",
       "    <tr>\n",
       "      <th>1</th>\n",
       "      <td>1</td>\n",
       "      <td>Center console boat</td>\n",
       "      <td>Terhi power boats</td>\n",
       "      <td>new boat from stock</td>\n",
       "      <td>2020</td>\n",
       "      <td>4.00</td>\n",
       "      <td>1.50</td>\n",
       "      <td>Thermoplastic</td>\n",
       "      <td>75</td>\n",
       "      <td>3734.30</td>\n",
       "      <td>Germany</td>\n",
       "      <td>Low</td>\n",
       "      <td>Medium</td>\n",
       "    </tr>\n",
       "    <tr>\n",
       "      <th>2</th>\n",
       "      <td>2</td>\n",
       "      <td>Sport Boat</td>\n",
       "      <td>Marine power boats</td>\n",
       "      <td>new boat from stock</td>\n",
       "      <td>0</td>\n",
       "      <td>3.69</td>\n",
       "      <td>1.42</td>\n",
       "      <td>Aluminium</td>\n",
       "      <td>124</td>\n",
       "      <td>4184.70</td>\n",
       "      <td>Switzerland</td>\n",
       "      <td>Low</td>\n",
       "      <td>High</td>\n",
       "    </tr>\n",
       "    <tr>\n",
       "      <th>3</th>\n",
       "      <td>3</td>\n",
       "      <td>Sport Boat</td>\n",
       "      <td>Pioner power boats</td>\n",
       "      <td>new boat from stock</td>\n",
       "      <td>2020</td>\n",
       "      <td>3.00</td>\n",
       "      <td>1.00</td>\n",
       "      <td>GRP</td>\n",
       "      <td>64</td>\n",
       "      <td>3626.00</td>\n",
       "      <td>Denmark</td>\n",
       "      <td>Low</td>\n",
       "      <td>Low</td>\n",
       "    </tr>\n",
       "    <tr>\n",
       "      <th>4</th>\n",
       "      <td>4</td>\n",
       "      <td>Fishing Boat</td>\n",
       "      <td>Linder power boats</td>\n",
       "      <td>new boat from stock</td>\n",
       "      <td>2019</td>\n",
       "      <td>3.55</td>\n",
       "      <td>1.46</td>\n",
       "      <td>Aluminium</td>\n",
       "      <td>58</td>\n",
       "      <td>3636.93</td>\n",
       "      <td>Germany</td>\n",
       "      <td>Low</td>\n",
       "      <td>Low</td>\n",
       "    </tr>\n",
       "  </tbody>\n",
       "</table>\n",
       "</div>"
      ],
      "text/plain": [
       "   Unnamed: 0            Boat Type          Manufacturer            Condition  \\\n",
       "0           0          Motor Yacht  Rigiflex power boats  new boat from stock   \n",
       "1           1  Center console boat     Terhi power boats  new boat from stock   \n",
       "2           2           Sport Boat    Marine power boats  new boat from stock   \n",
       "3           3           Sport Boat    Pioner power boats  new boat from stock   \n",
       "4           4         Fishing Boat    Linder power boats  new boat from stock   \n",
       "\n",
       "   Year Built  Length  Width       Material  Number of views last 7 days  \\\n",
       "0        2017    4.00   1.90            GRP                          226   \n",
       "1        2020    4.00   1.50  Thermoplastic                           75   \n",
       "2           0    3.69   1.42      Aluminium                          124   \n",
       "3        2020    3.00   1.00            GRP                           64   \n",
       "4        2019    3.55   1.46      Aluminium                           58   \n",
       "\n",
       "   Price in usd      Country Price Level Views Level  \n",
       "0       3704.07  Switzerland         Low   Very High  \n",
       "1       3734.30      Germany         Low      Medium  \n",
       "2       4184.70  Switzerland         Low        High  \n",
       "3       3626.00      Denmark         Low         Low  \n",
       "4       3636.93      Germany         Low         Low  "
      ]
     },
     "execution_count": 18,
     "metadata": {},
     "output_type": "execute_result"
    }
   ],
   "source": [
    "df_clean.head()"
   ]
  },
  {
   "cell_type": "code",
   "execution_count": 19,
   "id": "05310aa8",
   "metadata": {},
   "outputs": [],
   "source": [
    "#Exporting to csv\n",
    "df_clean.to_csv(os.path.join(path, '02 Data','Prepared Data', 'clean_boat2.csv'))"
   ]
  },
  {
   "cell_type": "code",
   "execution_count": null,
   "id": "1903a5bc",
   "metadata": {},
   "outputs": [],
   "source": []
  }
 ],
 "metadata": {
  "kernelspec": {
   "display_name": "Python 3 (ipykernel)",
   "language": "python",
   "name": "python3"
  },
  "language_info": {
   "codemirror_mode": {
    "name": "ipython",
    "version": 3
   },
   "file_extension": ".py",
   "mimetype": "text/x-python",
   "name": "python",
   "nbconvert_exporter": "python",
   "pygments_lexer": "ipython3",
   "version": "3.11.5"
  }
 },
 "nbformat": 4,
 "nbformat_minor": 5
}
